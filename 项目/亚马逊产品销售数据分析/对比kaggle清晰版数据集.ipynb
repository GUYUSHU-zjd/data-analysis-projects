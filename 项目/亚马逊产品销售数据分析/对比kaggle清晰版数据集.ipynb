{
 "cells": [
  {
   "cell_type": "code",
   "execution_count": 13,
   "id": "bb4fa232-3d87-462b-b1b6-4fc0de233fa6",
   "metadata": {},
   "outputs": [
    {
     "name": "stdout",
     "output_type": "stream",
     "text": [
      "📁 亚马逊产品销售数据分析/\n",
      "│   📁 .ipynb_checkpoints/\n",
      "│   │   📄 Untitled-checkpoint.ipynb\n",
      "│       📄 亚马逊销售数据清洗-checkpoint.ipynb\n",
      "│   📁 anaconda_projects/\n",
      "│       📁 db/\n",
      "│           📄 project_filebrowser.db\n",
      "│   📁 archive/\n",
      "│   │   📄 amazon_products_sales_data_cleaned.csv\n",
      "│       📄 amazon_products_sales_data_uncleaned.csv\n",
      "│   📄 Untitled.ipynb\n",
      "│   📄 amazon_cleaned.csv\n",
      "    📄 亚马逊销售数据清洗.ipynb\n",
      "\n"
     ]
    }
   ],
   "source": [
    "from pathlib import Path\n",
    "\n",
    "def make_tree(path: Path, prefix: str = ''):\n",
    "    \"\"\"递归打印目录树，返回字符串\"\"\"\n",
    "    if not path.is_dir():\n",
    "        return prefix + '📄 ' + path.name + '\\n'\n",
    "    lines = [prefix + '📁 ' + path.name + '/\\n']\n",
    "    # 排序：目录在前，文件在后\n",
    "    entries = sorted(path.iterdir(), key=lambda p: (p.is_file(), p.name))\n",
    "    for idx, entry in enumerate(entries):\n",
    "        is_last = idx == len(entries) - 1\n",
    "        lines.append(make_tree(entry, prefix + ('    ' if is_last else '│   ')))\n",
    "    return ''.join(lines)\n",
    "\n",
    "if __name__ == '__main__':\n",
    "    root = Path(r'D:\\知行合一\\数据分析\\亚马逊产品销售数据分析')   # 改成你的路径\n",
    "    print(make_tree(root))\n",
    "    # 如果想直接写文件\n",
    "    # Path('foo_tree.txt').write_text(make_tree(root), encoding='utf-8')"
   ]
  },
  {
   "cell_type": "code",
   "execution_count": 15,
   "id": "d09f7af0-b09e-450b-a2fc-a57e1725b523",
   "metadata": {},
   "outputs": [
    {
     "name": "stdout",
     "output_type": "stream",
     "text": [
      "<class 'pandas.core.frame.DataFrame'>\n",
      "RangeIndex: 42675 entries, 0 to 42674\n",
      "Data columns (total 17 columns):\n",
      " #   Column                Non-Null Count  Dtype  \n",
      "---  ------                --------------  -----  \n",
      " 0   product_title         42675 non-null  object \n",
      " 1   product_rating        41651 non-null  float64\n",
      " 2   total_reviews         41651 non-null  float64\n",
      " 3   purchased_last_month  32164 non-null  float64\n",
      " 4   discounted_price      40613 non-null  float64\n",
      " 5   original_price        40613 non-null  float64\n",
      " 6   is_best_seller        42675 non-null  object \n",
      " 7   is_sponsored          42675 non-null  object \n",
      " 8   has_coupon            42675 non-null  object \n",
      " 9   buy_box_availability  28022 non-null  object \n",
      " 10  delivery_date         30692 non-null  object \n",
      " 11  sustainability_tags   3408 non-null   object \n",
      " 12  product_image_url     42675 non-null  object \n",
      " 13  product_page_url      40606 non-null  object \n",
      " 14  data_collected_at     42675 non-null  object \n",
      " 15  product_category      42675 non-null  object \n",
      " 16  discount_percentage   40613 non-null  float64\n",
      "dtypes: float64(6), object(11)\n",
      "memory usage: 5.5+ MB\n"
     ]
    }
   ],
   "source": [
    "import numpy as np\n",
    "import pandas as pd\n",
    "\n",
    "data = pd.read_csv('archive/amazon_products_sales_data_cleaned.csv')\n",
    "data.info()"
   ]
  },
  {
   "cell_type": "code",
   "execution_count": null,
   "id": "04e52284-69bf-4632-8718-5f6bf99dee10",
   "metadata": {},
   "outputs": [],
   "source": []
  }
 ],
 "metadata": {
  "kernelspec": {
   "display_name": "Python (pytorch_env)",
   "language": "python",
   "name": "pytorch_env"
  },
  "language_info": {
   "codemirror_mode": {
    "name": "ipython",
    "version": 3
   },
   "file_extension": ".py",
   "mimetype": "text/x-python",
   "name": "python",
   "nbconvert_exporter": "python",
   "pygments_lexer": "ipython3",
   "version": "3.10.16"
  }
 },
 "nbformat": 4,
 "nbformat_minor": 5
}
