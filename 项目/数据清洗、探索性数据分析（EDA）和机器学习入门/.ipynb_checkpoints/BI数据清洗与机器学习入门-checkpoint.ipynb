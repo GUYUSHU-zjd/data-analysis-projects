{
 "cells": [
  {
   "cell_type": "code",
   "execution_count": null,
   "id": "4b3b8c73-0951-4ec9-bdf4-33f9b3b6edd8",
   "metadata": {},
   "outputs": [],
   "source": [
    "# 导入必要库\n",
    "import numpy as np\n",
    "import pandas as pd\n",
    "import seaborn as sns\n",
    "import matplotlib.pyplot as plt\n",
    "from sklearn.model_selection import train_test_split\n",
    "from sklearn.ensemble import RandomForestRegressor\n",
    "from sklearn.metrics import mean_absolute_error, r2_score\n",
    "import warnings\n",
    "warnings.filterwarnings(\"ignore\")\n",
    "\n",
    "# 加载数据\n",
    "df = pd.read_csv(\"bi.csv\", encoding=\"latin1\")\n",
    "\n",
    "# 1. 数据概览\n",
    "print(df.info())\n",
    "print(df.describe())\n",
    "print(df.isnull().sum())\n"
   ]
  },
  {
   "cell_type": "code",
   "execution_count": null,
   "id": "ddb67ef1-7721-4d66-b945-d4d43ad2f0c7",
   "metadata": {},
   "outputs": [],
   "source": [
    "\n",
    "# 2. 数据清洗\n",
    "# 统一性别表示\n",
    "df['gender'] = df['gender'].map({'M': 'Male', 'F': 'Female', 'Male': 'Male', 'Female': 'Female'})\n",
    "\n",
    "# 统一教育背景\n",
    "df['prevEducation'] = df['prevEducation'].replace({'High School': 'HighSchool', 'Highschool': 'HighSchool'})\n",
    "\n",
    "# 填充缺失值（用中位数）\n",
    "df['Python'].fillna(df['Python'].median(), inplace=True)\n"
   ]
  },
  {
   "cell_type": "code",
   "execution_count": null,
   "id": "75a08a09-e931-4cd8-a2c4-cd5712ae8d65",
   "metadata": {},
   "outputs": [],
   "source": [
    "\n",
    "# 3. 可视化分析\n",
    "# 年龄分布\n",
    "plt.figure(figsize=(8, 5))\n",
    "sns.histplot(df['Age'], bins=15, kde=True)\n",
    "plt.title(\"Age Distribution\")\n",
    "plt.show()\n",
    "\n",
    "# 性别分布\n",
    "sns.countplot(x='gender', data=df)\n",
    "plt.title(\"Gender Distribution\")\n",
    "plt.show()\n",
    "\n",
    "# 成绩分布\n",
    "fig, axes = plt.subplots(1, 2, figsize=(12, 4))\n",
    "sns.histplot(df['Python'], kde=True, ax=axes[0])\n",
    "sns.histplot(df['DB'], kde=True, ax=axes[1])\n",
    "plt.show()\n"
   ]
  },
  {
   "cell_type": "code",
   "execution_count": null,
   "id": "23ba8ee9-0349-4884-9c91-a2a3976e777c",
   "metadata": {},
   "outputs": [],
   "source": [
    "\n",
    "# 4. 相关性分析\n",
    "corr = df[['Age', 'entryEXAM', 'studyHOURS', 'Python', 'DB']].corr()\n",
    "sns.heatmap(corr, annot=True, cmap='coolwarm')\n",
    "plt.title(\"Correlation Heatmap\")\n",
    "plt.show()\n"
   ]
  },
  {
   "cell_type": "code",
   "execution_count": null,
   "id": "9d48a9a0-2f89-40dc-960f-9f1ef06dd75c",
   "metadata": {},
   "outputs": [],
   "source": [
    "\n",
    "# 5. 机器学习：预测 Python 成绩\n",
    "# 选择特征和目标\n",
    "features = ['Age', 'entryEXAM', 'studyHOURS', 'DB']\n",
    "X = df[features]\n",
    "y = df['Python']\n",
    "\n",
    "# 划分训练集和测试集\n",
    "X_train, X_test, y_train, y_test = train_test_split(X, y, test_size=0.2, random_state=42)\n",
    "\n",
    "# 训练模型\n",
    "model = RandomForestRegressor(n_estimators=100, random_state=42)\n",
    "model.fit(X_train, y_train)\n",
    "\n",
    "# 预测与评估\n",
    "y_pred = model.predict(X_test)\n",
    "print(\"MAE:\", mean_absolute_error(y_test, y_pred))\n",
    "print(\"R² Score:\", r2_score(y_test, y_pred))\n",
    "\n",
    "# 特征重要性\n",
    "importance = pd.Series(model.feature_importances_, index=features).sort_values(ascending=False)\n",
    "importance.plot(kind='bar')\n",
    "plt.title(\"Feature Importance\")\n",
    "plt.show()"
   ]
  }
 ],
 "metadata": {
  "kernelspec": {
   "display_name": "Python (pytorch_env)",
   "language": "python",
   "name": "pytorch_env"
  },
  "language_info": {
   "codemirror_mode": {
    "name": "ipython",
    "version": 3
   },
   "file_extension": ".py",
   "mimetype": "text/x-python",
   "name": "python",
   "nbconvert_exporter": "python",
   "pygments_lexer": "ipython3",
   "version": "3.10.16"
  }
 },
 "nbformat": 4,
 "nbformat_minor": 5
}
